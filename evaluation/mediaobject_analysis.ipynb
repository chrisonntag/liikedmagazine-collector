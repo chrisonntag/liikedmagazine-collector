{
 "cells": [
  {
   "cell_type": "code",
   "execution_count": 1,
   "metadata": {},
   "outputs": [],
   "source": [
    "import sqlite3\n",
    "import pandas as pd\n",
    "import numpy as np\n",
    "from sklearn import preprocessing\n",
    "import matplotlib.pyplot as plt \n",
    "plt.rc(\"font\", size=14)\n",
    "from sklearn.linear_model import LogisticRegression\n",
    "from sklearn.model_selection import train_test_split\n",
    "import seaborn as sns\n",
    "sns.set(style=\"white\")\n",
    "sns.set(style=\"whitegrid\", color_codes=True)"
   ]
  },
  {
   "cell_type": "code",
   "execution_count": 2,
   "metadata": {},
   "outputs": [],
   "source": [
    "db = sqlite3.connect('../labeled_media.db')\n",
    "data = pd.read_sql_query(\"SELECT * FROM mediaobject WHERE quality IS NOT NULL\", db)\n",
    "data = data.dropna()"
   ]
  },
  {
   "cell_type": "code",
   "execution_count": 3,
   "metadata": {},
   "outputs": [
    {
     "data": {
      "text/html": [
       "<div>\n",
       "<style scoped>\n",
       "    .dataframe tbody tr th:only-of-type {\n",
       "        vertical-align: middle;\n",
       "    }\n",
       "\n",
       "    .dataframe tbody tr th {\n",
       "        vertical-align: top;\n",
       "    }\n",
       "\n",
       "    .dataframe thead th {\n",
       "        text-align: right;\n",
       "    }\n",
       "</style>\n",
       "<table border=\"1\" class=\"dataframe\">\n",
       "  <thead>\n",
       "    <tr style=\"text-align: right;\">\n",
       "      <th></th>\n",
       "      <th>user_id</th>\n",
       "      <th>media_id</th>\n",
       "      <th>media_high_res_url</th>\n",
       "      <th>short_code</th>\n",
       "      <th>posted</th>\n",
       "      <th>created</th>\n",
       "      <th>quality</th>\n",
       "      <th>caption</th>\n",
       "      <th>mentions</th>\n",
       "      <th>media_type</th>\n",
       "      <th>like_ratio</th>\n",
       "      <th>comment_ratio</th>\n",
       "      <th>downloaded</th>\n",
       "    </tr>\n",
       "  </thead>\n",
       "  <tbody>\n",
       "    <tr>\n",
       "      <th>0</th>\n",
       "      <td>14420236</td>\n",
       "      <td>2110950106878056700</td>\n",
       "      <td>https://scontent-dus1-1.cdninstagram.com/v/t51...</td>\n",
       "      <td>B1LmfAbChj8</td>\n",
       "      <td>1565864884</td>\n",
       "      <td>2019-12-14 00:35:11.524868</td>\n",
       "      <td>1</td>\n",
       "      <td>Street art Barcelona unknown artists #art #str...</td>\n",
       "      <td>0</td>\n",
       "      <td>image</td>\n",
       "      <td>0.014158</td>\n",
       "      <td>0.000000</td>\n",
       "      <td>1</td>\n",
       "    </tr>\n",
       "    <tr>\n",
       "      <th>1</th>\n",
       "      <td>14420236</td>\n",
       "      <td>2109621473475345464</td>\n",
       "      <td>https://scontent-dus1-1.cdninstagram.com/v/t51...</td>\n",
       "      <td>B1G4Y2JCLw4</td>\n",
       "      <td>1565706498</td>\n",
       "      <td>2019-12-14 00:35:13.663048</td>\n",
       "      <td>0</td>\n",
       "      <td>Street art Barcelona unknown artist. #streetar...</td>\n",
       "      <td>0</td>\n",
       "      <td>image</td>\n",
       "      <td>0.020693</td>\n",
       "      <td>0.000436</td>\n",
       "      <td>1</td>\n",
       "    </tr>\n",
       "    <tr>\n",
       "      <th>2</th>\n",
       "      <td>14420236</td>\n",
       "      <td>1930053959377403019</td>\n",
       "      <td>https://scontent-dus1-1.cdninstagram.com/v/t51...</td>\n",
       "      <td>BrI7dmmBryL</td>\n",
       "      <td>1544300383</td>\n",
       "      <td>2019-12-14 00:35:18.165906</td>\n",
       "      <td>0</td>\n",
       "      <td>By @nilbartolozzi #packaging #design</td>\n",
       "      <td>1</td>\n",
       "      <td>image</td>\n",
       "      <td>0.016336</td>\n",
       "      <td>0.000871</td>\n",
       "      <td>1</td>\n",
       "    </tr>\n",
       "    <tr>\n",
       "      <th>3</th>\n",
       "      <td>14420236</td>\n",
       "      <td>1902482829280134739</td>\n",
       "      <td>https://scontent-dus1-1.cdninstagram.com/v/t51...</td>\n",
       "      <td>Bpm-g2uhcZT</td>\n",
       "      <td>1541013648</td>\n",
       "      <td>2019-12-14 00:35:23.380004</td>\n",
       "      <td>1</td>\n",
       "      <td>By @richartshields #illustration #pen</td>\n",
       "      <td>1</td>\n",
       "      <td>image</td>\n",
       "      <td>0.023524</td>\n",
       "      <td>0.000218</td>\n",
       "      <td>1</td>\n",
       "    </tr>\n",
       "    <tr>\n",
       "      <th>4</th>\n",
       "      <td>14420236</td>\n",
       "      <td>1902478143773944641</td>\n",
       "      <td>https://scontent-dus1-1.cdninstagram.com/v/t51...</td>\n",
       "      <td>Bpm9crAlytB</td>\n",
       "      <td>1541013089</td>\n",
       "      <td>2019-12-14 00:35:27.792653</td>\n",
       "      <td>0</td>\n",
       "      <td>By @guccibeauty #gucci #beauty</td>\n",
       "      <td>1</td>\n",
       "      <td>image</td>\n",
       "      <td>0.007188</td>\n",
       "      <td>0.000000</td>\n",
       "      <td>1</td>\n",
       "    </tr>\n",
       "  </tbody>\n",
       "</table>\n",
       "</div>"
      ],
      "text/plain": [
       "    user_id             media_id  \\\n",
       "0  14420236  2110950106878056700   \n",
       "1  14420236  2109621473475345464   \n",
       "2  14420236  1930053959377403019   \n",
       "3  14420236  1902482829280134739   \n",
       "4  14420236  1902478143773944641   \n",
       "\n",
       "                                  media_high_res_url   short_code      posted  \\\n",
       "0  https://scontent-dus1-1.cdninstagram.com/v/t51...  B1LmfAbChj8  1565864884   \n",
       "1  https://scontent-dus1-1.cdninstagram.com/v/t51...  B1G4Y2JCLw4  1565706498   \n",
       "2  https://scontent-dus1-1.cdninstagram.com/v/t51...  BrI7dmmBryL  1544300383   \n",
       "3  https://scontent-dus1-1.cdninstagram.com/v/t51...  Bpm-g2uhcZT  1541013648   \n",
       "4  https://scontent-dus1-1.cdninstagram.com/v/t51...  Bpm9crAlytB  1541013089   \n",
       "\n",
       "                      created  quality  \\\n",
       "0  2019-12-14 00:35:11.524868        1   \n",
       "1  2019-12-14 00:35:13.663048        0   \n",
       "2  2019-12-14 00:35:18.165906        0   \n",
       "3  2019-12-14 00:35:23.380004        1   \n",
       "4  2019-12-14 00:35:27.792653        0   \n",
       "\n",
       "                                             caption  mentions media_type  \\\n",
       "0  Street art Barcelona unknown artists #art #str...         0      image   \n",
       "1  Street art Barcelona unknown artist. #streetar...         0      image   \n",
       "2               By @nilbartolozzi #packaging #design         1      image   \n",
       "3              By @richartshields #illustration #pen         1      image   \n",
       "4                     By @guccibeauty #gucci #beauty         1      image   \n",
       "\n",
       "   like_ratio  comment_ratio  downloaded  \n",
       "0    0.014158       0.000000           1  \n",
       "1    0.020693       0.000436           1  \n",
       "2    0.016336       0.000871           1  \n",
       "3    0.023524       0.000218           1  \n",
       "4    0.007188       0.000000           1  "
      ]
     },
     "execution_count": 3,
     "metadata": {},
     "output_type": "execute_result"
    }
   ],
   "source": [
    "data.head()"
   ]
  },
  {
   "cell_type": "code",
   "execution_count": 4,
   "metadata": {},
   "outputs": [
    {
     "data": {
      "text/plain": [
       "0    1822\n",
       "1     623\n",
       "Name: quality, dtype: int64"
      ]
     },
     "execution_count": 4,
     "metadata": {},
     "output_type": "execute_result"
    }
   ],
   "source": [
    "data['quality'].value_counts()"
   ]
  },
  {
   "cell_type": "code",
   "execution_count": 5,
   "metadata": {},
   "outputs": [
    {
     "data": {
      "image/png": "[encoded data removed]",
      "text/plain": [
       "<Figure size 432x288 with 1 Axes>"
      ]
     },
     "metadata": {},
     "output_type": "display_data"
    }
   ],
   "source": [
    "sns.countplot(x='quality',data=data, palette='hls')\n",
    "plt.show()"
   ]
  },
  {
   "cell_type": "code",
   "execution_count": 6,
   "metadata": {},
   "outputs": [
    {
     "name": "stdout",
     "output_type": "stream",
     "text": [
      "High Quality images: 25.480573%\n",
      "Low Quality images: 74.519427%\n"
     ]
    }
   ],
   "source": [
    "high_quality = len(data[data['quality']==1.0])\n",
    "low_quality = len(data[data['quality']==0.0])\n",
    "print(\"High Quality images: %f%%\" % ((high_quality/len(data))*100))\n",
    "print(\"Low Quality images: %f%%\" % ((low_quality/len(data))*100))"
   ]
  },
  {
   "cell_type": "code",
   "execution_count": 7,
   "metadata": {},
   "outputs": [
    {
     "data": {
      "text/html": [
       "<div>\n",
       "<style scoped>\n",
       "    .dataframe tbody tr th:only-of-type {\n",
       "        vertical-align: middle;\n",
       "    }\n",
       "\n",
       "    .dataframe tbody tr th {\n",
       "        vertical-align: top;\n",
       "    }\n",
       "\n",
       "    .dataframe thead th {\n",
       "        text-align: right;\n",
       "    }\n",
       "</style>\n",
       "<table border=\"1\" class=\"dataframe\">\n",
       "  <thead>\n",
       "    <tr style=\"text-align: right;\">\n",
       "      <th></th>\n",
       "      <th>user_id</th>\n",
       "      <th>media_id</th>\n",
       "      <th>posted</th>\n",
       "      <th>mentions</th>\n",
       "      <th>like_ratio</th>\n",
       "      <th>comment_ratio</th>\n",
       "      <th>downloaded</th>\n",
       "    </tr>\n",
       "    <tr>\n",
       "      <th>quality</th>\n",
       "      <th></th>\n",
       "      <th></th>\n",
       "      <th></th>\n",
       "      <th></th>\n",
       "      <th></th>\n",
       "      <th></th>\n",
       "      <th></th>\n",
       "    </tr>\n",
       "  </thead>\n",
       "  <tbody>\n",
       "    <tr>\n",
       "      <th>0</th>\n",
       "      <td>2.815361e+08</td>\n",
       "      <td>2.074793e+18</td>\n",
       "      <td>1.561555e+09</td>\n",
       "      <td>1.346323</td>\n",
       "      <td>0.033987</td>\n",
       "      <td>0.001611</td>\n",
       "      <td>1.0</td>\n",
       "    </tr>\n",
       "    <tr>\n",
       "      <th>1</th>\n",
       "      <td>5.720391e+08</td>\n",
       "      <td>2.013060e+18</td>\n",
       "      <td>1.554195e+09</td>\n",
       "      <td>1.351525</td>\n",
       "      <td>0.035616</td>\n",
       "      <td>0.001025</td>\n",
       "      <td>1.0</td>\n",
       "    </tr>\n",
       "  </tbody>\n",
       "</table>\n",
       "</div>"
      ],
      "text/plain": [
       "              user_id      media_id        posted  mentions  like_ratio  \\\n",
       "quality                                                                   \n",
       "0        2.815361e+08  2.074793e+18  1.561555e+09  1.346323    0.033987   \n",
       "1        5.720391e+08  2.013060e+18  1.554195e+09  1.351525    0.035616   \n",
       "\n",
       "         comment_ratio  downloaded  \n",
       "quality                             \n",
       "0             0.001611         1.0  \n",
       "1             0.001025         1.0  "
      ]
     },
     "execution_count": 7,
     "metadata": {},
     "output_type": "execute_result"
    }
   ],
   "source": [
    "data.groupby('quality').mean()"
   ]
  },
  {
   "cell_type": "markdown",
   "metadata": {},
   "source": [
    "# Feature Selection"
   ]
  },
  {
   "cell_type": "code",
   "execution_count": 8,
   "metadata": {},
   "outputs": [
    {
     "data": {
      "text/html": [
       "<div>\n",
       "<style scoped>\n",
       "    .dataframe tbody tr th:only-of-type {\n",
       "        vertical-align: middle;\n",
       "    }\n",
       "\n",
       "    .dataframe tbody tr th {\n",
       "        vertical-align: top;\n",
       "    }\n",
       "\n",
       "    .dataframe thead th {\n",
       "        text-align: right;\n",
       "    }\n",
       "</style>\n",
       "<table border=\"1\" class=\"dataframe\">\n",
       "  <thead>\n",
       "    <tr style=\"text-align: right;\">\n",
       "      <th></th>\n",
       "      <th>mentions</th>\n",
       "      <th>like_ratio</th>\n",
       "      <th>comment_ratio</th>\n",
       "      <th>hashtags</th>\n",
       "      <th>caption_length</th>\n",
       "      <th>quality</th>\n",
       "    </tr>\n",
       "  </thead>\n",
       "  <tbody>\n",
       "    <tr>\n",
       "      <th>0</th>\n",
       "      <td>0</td>\n",
       "      <td>0.014158</td>\n",
       "      <td>0.000000</td>\n",
       "      <td>4</td>\n",
       "      <td>73</td>\n",
       "      <td>1</td>\n",
       "    </tr>\n",
       "    <tr>\n",
       "      <th>1</th>\n",
       "      <td>0</td>\n",
       "      <td>0.020693</td>\n",
       "      <td>0.000436</td>\n",
       "      <td>2</td>\n",
       "      <td>62</td>\n",
       "      <td>0</td>\n",
       "    </tr>\n",
       "    <tr>\n",
       "      <th>2</th>\n",
       "      <td>1</td>\n",
       "      <td>0.016336</td>\n",
       "      <td>0.000871</td>\n",
       "      <td>2</td>\n",
       "      <td>36</td>\n",
       "      <td>0</td>\n",
       "    </tr>\n",
       "    <tr>\n",
       "      <th>3</th>\n",
       "      <td>1</td>\n",
       "      <td>0.023524</td>\n",
       "      <td>0.000218</td>\n",
       "      <td>2</td>\n",
       "      <td>37</td>\n",
       "      <td>1</td>\n",
       "    </tr>\n",
       "    <tr>\n",
       "      <th>4</th>\n",
       "      <td>1</td>\n",
       "      <td>0.007188</td>\n",
       "      <td>0.000000</td>\n",
       "      <td>2</td>\n",
       "      <td>30</td>\n",
       "      <td>0</td>\n",
       "    </tr>\n",
       "  </tbody>\n",
       "</table>\n",
       "</div>"
      ],
      "text/plain": [
       "   mentions  like_ratio  comment_ratio  hashtags  caption_length  quality\n",
       "0         0    0.014158       0.000000         4              73        1\n",
       "1         0    0.020693       0.000436         2              62        0\n",
       "2         1    0.016336       0.000871         2              36        0\n",
       "3         1    0.023524       0.000218         2              37        1\n",
       "4         1    0.007188       0.000000         2              30        0"
      ]
     },
     "execution_count": 8,
     "metadata": {},
     "output_type": "execute_result"
    }
   ],
   "source": [
    "# Add num of hashtags and caption length\n",
    "import re\n",
    "from sklearn.feature_extraction.text import CountVectorizer\n",
    "\n",
    "hashtags = []\n",
    "caption_length = []\n",
    "for caption in data['caption']:\n",
    "    tags = re.findall(r'(#\\w+)', caption)\n",
    "    hashtags.append(len(tags))\n",
    "    caption_length.append(len(caption))\n",
    "\n",
    "data['hashtags'] = hashtags\n",
    "data['caption_length'] = caption_length\n",
    "\n",
    "# Vectorizing the caption\n",
    "vectorizer = CountVectorizer()\n",
    "vectorized_caption = pd.DataFrame(vectorizer.fit_transform(data['caption']))\n",
    "data['vectorized_caption'] = vectorized_caption\n",
    "\n",
    "feature_cols = ['mentions', 'like_ratio', 'comment_ratio', 'hashtags', 'caption_length', 'quality']\n",
    "data_final = data[feature_cols]\n",
    "data_final.head()"
   ]
  },
  {
   "cell_type": "markdown",
   "metadata": {},
   "source": [
    "# SMOTE"
   ]
  },
  {
   "cell_type": "code",
   "execution_count": 57,
   "metadata": {},
   "outputs": [],
   "source": [
    "from sklearn.model_selection import train_test_split\n",
    "from sklearn.linear_model import LogisticRegression\n",
    "\n",
    "\n",
    "# X = data[feature_cols]\n",
    "X_orig = data_final.loc[:, data_final.columns != 'quality']\n",
    "y_orig = data_final.quality"
   ]
  },
  {
   "cell_type": "code",
   "execution_count": 87,
   "metadata": {},
   "outputs": [
    {
     "name": "stderr",
     "output_type": "stream",
     "text": [
      "/Users/christoph/.virtualenvs/quality_labeling/lib/python3.8/site-packages/imblearn/utils/_validation.py:277: UserWarning: After over-sampling, the number of samples (3000) in class 1 will be larger than the number of samples in the majority class (class #0 -> 1822)\n",
      "  warnings.warn(\n"
     ]
    }
   ],
   "source": [
    "from imblearn.over_sampling import SMOTE\n",
    "\n",
    "num = dict()\n",
    "num[0] = 1822\n",
    "num[1] = 3000\n",
    "\n",
    "# Use SMOTE to generate fake points using k-nearest neighbours\n",
    "sm = SMOTE(sampling_strategy=num, k_neighbors=1, random_state=2313)\n",
    "X_res, y_res = sm.fit_resample(X_orig, y_orig)\n",
    "\n",
    "X = X_orig.append(pd.DataFrame(X_res))\n",
    "y = y_orig.append(y_res)"
   ]
  },
  {
   "cell_type": "code",
   "execution_count": 88,
   "metadata": {},
   "outputs": [
    {
     "data": {
      "image/png": "[encoded data removed]",
      "text/plain": [
       "<Figure size 432x288 with 1 Axes>"
      ]
     },
     "metadata": {},
     "output_type": "display_data"
    }
   ],
   "source": [
    "sns.countplot(x='quality',data=pd.concat([X, pd.DataFrame(y)], axis=1), palette='hls')\n",
    "plt.show()"
   ]
  },
  {
   "cell_type": "markdown",
   "metadata": {},
   "source": [
    "# Logistic Regression Training"
   ]
  },
  {
   "cell_type": "code",
   "execution_count": 89,
   "metadata": {},
   "outputs": [],
   "source": [
    "# Splitting\n",
    "X_train, X_test, y_train, y_test = train_test_split(X, y, test_size=0.25, random_state=0)"
   ]
  },
  {
   "cell_type": "code",
   "execution_count": 90,
   "metadata": {},
   "outputs": [],
   "source": [
    "logmodel = LogisticRegression()\n",
    "logmodel.fit(X_train,y_train)\n",
    "predictions = logmodel.predict(X_test)"
   ]
  },
  {
   "cell_type": "code",
   "execution_count": 91,
   "metadata": {},
   "outputs": [
    {
     "name": "stdout",
     "output_type": "stream",
     "text": [
      "              precision    recall  f1-score   support\n",
      "\n",
      "           0       0.50      0.50      0.50       913\n",
      "           1       0.49      0.48      0.49       904\n",
      "\n",
      "    accuracy                           0.49      1817\n",
      "   macro avg       0.49      0.49      0.49      1817\n",
      "weighted avg       0.49      0.49      0.49      1817\n",
      "\n",
      "[[461 452]\n",
      " [468 436]]\n",
      "Accuracy: 0.4936708860759494\n",
      "Precision: 0.49099099099099097\n",
      "Recall: 0.4823008849557522\n"
     ]
    }
   ],
   "source": [
    "from sklearn import metrics\n",
    "\n",
    "cnf_matrix = metrics.confusion_matrix(y_test, predictions)\n",
    "print(metrics.classification_report(y_test,predictions))\n",
    "print(cnf_matrix)\n",
    "print(\"Accuracy:\",metrics.accuracy_score(y_test, predictions))\n",
    "print(\"Precision:\",metrics.precision_score(y_test, predictions))\n",
    "print(\"Recall:\",metrics.recall_score(y_test, predictions))"
   ]
  },
  {
   "cell_type": "code",
   "execution_count": null,
   "metadata": {},
   "outputs": [],
   "source": []
  },
  {
   "cell_type": "code",
   "execution_count": null,
   "metadata": {},
   "outputs": [],
   "source": []
  },
  {
   "cell_type": "code",
   "execution_count": null,
   "metadata": {},
   "outputs": [],
   "source": []
  }
 ],
 "metadata": {
  "kernelspec": {
   "display_name": "Python 3",
   "language": "python",
   "name": "python3"
  },
  "language_info": {
   "codemirror_mode": {
    "name": "ipython",
    "version": 3
   },
   "file_extension": ".py",
   "mimetype": "text/x-python",
   "name": "python",
   "nbconvert_exporter": "python",
   "pygments_lexer": "ipython3",
   "version": "3.8.0"
  }
 },
 "nbformat": 4,
 "nbformat_minor": 2
}
