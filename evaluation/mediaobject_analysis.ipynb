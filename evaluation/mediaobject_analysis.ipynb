{
 "cells": [
  {
   "cell_type": "code",
   "execution_count": 1,
   "metadata": {},
   "outputs": [],
   "source": [
    "import sqlite3\n",
    "import pandas as pd\n",
    "import numpy as np\n",
    "from sklearn import preprocessing\n",
    "import matplotlib.pyplot as plt \n",
    "plt.rc(\"font\", size=14)\n",
    "from sklearn.model_selection import train_test_split\n",
    "import seaborn as sns\n",
    "sns.set(style=\"white\")\n",
    "sns.set(style=\"whitegrid\", color_codes=True)"
   ]
  },
  {
   "cell_type": "code",
   "execution_count": 2,
   "metadata": {},
   "outputs": [],
   "source": [
    "db = sqlite3.connect('../labeled_media.db')\n",
    "query = \"SELECT mediaobject.caption, mediaobject.comment_ratio, mediaobject.like_ratio, mediaobject.mentions, mediaobject.quality, user.follower, user.following, user.posts FROM mediaobject INNER JOIN user ON mediaobject.user_id=user.user_id WHERE mediaobject.quality IS NOT NULL\"\n",
    "data = pd.read_sql_query(query, db)\n",
    "data = data.dropna()"
   ]
  },
  {
   "cell_type": "code",
   "execution_count": 3,
   "metadata": {},
   "outputs": [
    {
     "data": {
      "text/html": [
       "<div>\n",
       "<style scoped>\n",
       "    .dataframe tbody tr th:only-of-type {\n",
       "        vertical-align: middle;\n",
       "    }\n",
       "\n",
       "    .dataframe tbody tr th {\n",
       "        vertical-align: top;\n",
       "    }\n",
       "\n",
       "    .dataframe thead th {\n",
       "        text-align: right;\n",
       "    }\n",
       "</style>\n",
       "<table border=\"1\" class=\"dataframe\">\n",
       "  <thead>\n",
       "    <tr style=\"text-align: right;\">\n",
       "      <th></th>\n",
       "      <th>caption</th>\n",
       "      <th>comment_ratio</th>\n",
       "      <th>like_ratio</th>\n",
       "      <th>mentions</th>\n",
       "      <th>quality</th>\n",
       "      <th>follower</th>\n",
       "      <th>following</th>\n",
       "      <th>posts</th>\n",
       "    </tr>\n",
       "  </thead>\n",
       "  <tbody>\n",
       "    <tr>\n",
       "      <th>0</th>\n",
       "      <td>Street art Barcelona unknown artists #art #str...</td>\n",
       "      <td>0.000000</td>\n",
       "      <td>0.014158</td>\n",
       "      <td>0</td>\n",
       "      <td>1</td>\n",
       "      <td>4581</td>\n",
       "      <td>334</td>\n",
       "      <td>745</td>\n",
       "    </tr>\n",
       "    <tr>\n",
       "      <th>1</th>\n",
       "      <td>Street art Barcelona unknown artist. #streetar...</td>\n",
       "      <td>0.000436</td>\n",
       "      <td>0.020693</td>\n",
       "      <td>0</td>\n",
       "      <td>0</td>\n",
       "      <td>4581</td>\n",
       "      <td>334</td>\n",
       "      <td>745</td>\n",
       "    </tr>\n",
       "    <tr>\n",
       "      <th>2</th>\n",
       "      <td>By @nilbartolozzi #packaging #design</td>\n",
       "      <td>0.000871</td>\n",
       "      <td>0.016336</td>\n",
       "      <td>1</td>\n",
       "      <td>0</td>\n",
       "      <td>4581</td>\n",
       "      <td>334</td>\n",
       "      <td>745</td>\n",
       "    </tr>\n",
       "    <tr>\n",
       "      <th>3</th>\n",
       "      <td>By @richartshields #illustration #pen</td>\n",
       "      <td>0.000218</td>\n",
       "      <td>0.023524</td>\n",
       "      <td>1</td>\n",
       "      <td>1</td>\n",
       "      <td>4581</td>\n",
       "      <td>334</td>\n",
       "      <td>745</td>\n",
       "    </tr>\n",
       "    <tr>\n",
       "      <th>4</th>\n",
       "      <td>By @guccibeauty #gucci #beauty</td>\n",
       "      <td>0.000000</td>\n",
       "      <td>0.007188</td>\n",
       "      <td>1</td>\n",
       "      <td>0</td>\n",
       "      <td>4581</td>\n",
       "      <td>334</td>\n",
       "      <td>745</td>\n",
       "    </tr>\n",
       "  </tbody>\n",
       "</table>\n",
       "</div>"
      ],
      "text/plain": [
       "                                             caption  comment_ratio  \\\n",
       "0  Street art Barcelona unknown artists #art #str...       0.000000   \n",
       "1  Street art Barcelona unknown artist. #streetar...       0.000436   \n",
       "2               By @nilbartolozzi #packaging #design       0.000871   \n",
       "3              By @richartshields #illustration #pen       0.000218   \n",
       "4                     By @guccibeauty #gucci #beauty       0.000000   \n",
       "\n",
       "   like_ratio  mentions  quality  follower  following  posts  \n",
       "0    0.014158         0        1      4581        334    745  \n",
       "1    0.020693         0        0      4581        334    745  \n",
       "2    0.016336         1        0      4581        334    745  \n",
       "3    0.023524         1        1      4581        334    745  \n",
       "4    0.007188         1        0      4581        334    745  "
      ]
     },
     "execution_count": 3,
     "metadata": {},
     "output_type": "execute_result"
    }
   ],
   "source": [
    "data.head()"
   ]
  },
  {
   "cell_type": "code",
   "execution_count": 4,
   "metadata": {},
   "outputs": [
    {
     "data": {
      "text/plain": [
       "0    4894\n",
       "1    2024\n",
       "Name: quality, dtype: int64"
      ]
     },
     "execution_count": 4,
     "metadata": {},
     "output_type": "execute_result"
    }
   ],
   "source": [
    "data['quality'].value_counts()"
   ]
  },
  {
   "cell_type": "code",
   "execution_count": 5,
   "metadata": {},
   "outputs": [
    {
     "name": "stdout",
     "output_type": "stream",
     "text": [
      "High Quality images: 29.257011%\n",
      "Low Quality images: 70.742989%\n"
     ]
    }
   ],
   "source": [
    "high_quality = len(data[data['quality']==1.0])\n",
    "low_quality = len(data[data['quality']==0.0])\n",
    "print(\"High Quality images: %f%%\" % ((high_quality/len(data))*100))\n",
    "print(\"Low Quality images: %f%%\" % ((low_quality/len(data))*100))"
   ]
  },
  {
   "cell_type": "markdown",
   "metadata": {},
   "source": [
    "The dataset seems unbalanced, therefore either down- or upsample the dataset."
   ]
  },
  {
   "cell_type": "code",
   "execution_count": 6,
   "metadata": {},
   "outputs": [],
   "source": [
    "count_low, count_high = data['quality'].value_counts()\n",
    "low_quality = data[data['quality'] == 0]\n",
    "high_quality = data[data['quality'] == 1]\n",
    "\n",
    "low_quality_under = low_quality.sample(count_high)\n",
    "\n",
    "data = pd.concat([low_quality_under, high_quality], axis=0)"
   ]
  },
  {
   "cell_type": "code",
   "execution_count": 7,
   "metadata": {},
   "outputs": [
    {
     "data": {
      "image/png": "[encoded data removed]",
      "text/plain": [
       "<Figure size 432x288 with 1 Axes>"
      ]
     },
     "metadata": {},
     "output_type": "display_data"
    }
   ],
   "source": [
    "sns.countplot(x='quality',data=data, palette='hls')\n",
    "plt.show()"
   ]
  },
  {
   "cell_type": "code",
   "execution_count": null,
   "metadata": {},
   "outputs": [],
   "source": []
  },
  {
   "cell_type": "code",
   "execution_count": 8,
   "metadata": {},
   "outputs": [
    {
     "data": {
      "text/html": [
       "<div>\n",
       "<style scoped>\n",
       "    .dataframe tbody tr th:only-of-type {\n",
       "        vertical-align: middle;\n",
       "    }\n",
       "\n",
       "    .dataframe tbody tr th {\n",
       "        vertical-align: top;\n",
       "    }\n",
       "\n",
       "    .dataframe thead th {\n",
       "        text-align: right;\n",
       "    }\n",
       "</style>\n",
       "<table border=\"1\" class=\"dataframe\">\n",
       "  <thead>\n",
       "    <tr style=\"text-align: right;\">\n",
       "      <th></th>\n",
       "      <th>comment_ratio</th>\n",
       "      <th>like_ratio</th>\n",
       "      <th>mentions</th>\n",
       "      <th>follower</th>\n",
       "      <th>following</th>\n",
       "      <th>posts</th>\n",
       "    </tr>\n",
       "    <tr>\n",
       "      <th>quality</th>\n",
       "      <th></th>\n",
       "      <th></th>\n",
       "      <th></th>\n",
       "      <th></th>\n",
       "      <th></th>\n",
       "      <th></th>\n",
       "    </tr>\n",
       "  </thead>\n",
       "  <tbody>\n",
       "    <tr>\n",
       "      <th>0</th>\n",
       "      <td>0.001732</td>\n",
       "      <td>0.054418</td>\n",
       "      <td>1.179842</td>\n",
       "      <td>457601.782609</td>\n",
       "      <td>1017.9417</td>\n",
       "      <td>1457.567688</td>\n",
       "    </tr>\n",
       "    <tr>\n",
       "      <th>1</th>\n",
       "      <td>0.001442</td>\n",
       "      <td>0.071594</td>\n",
       "      <td>1.312747</td>\n",
       "      <td>361148.567194</td>\n",
       "      <td>895.6250</td>\n",
       "      <td>1504.919960</td>\n",
       "    </tr>\n",
       "  </tbody>\n",
       "</table>\n",
       "</div>"
      ],
      "text/plain": [
       "         comment_ratio  like_ratio  mentions       follower  following  \\\n",
       "quality                                                                  \n",
       "0             0.001732    0.054418  1.179842  457601.782609  1017.9417   \n",
       "1             0.001442    0.071594  1.312747  361148.567194   895.6250   \n",
       "\n",
       "               posts  \n",
       "quality               \n",
       "0        1457.567688  \n",
       "1        1504.919960  "
      ]
     },
     "execution_count": 8,
     "metadata": {},
     "output_type": "execute_result"
    }
   ],
   "source": [
    "data.groupby('quality').mean()"
   ]
  },
  {
   "cell_type": "markdown",
   "metadata": {},
   "source": [
    "# Feature Selection"
   ]
  },
  {
   "cell_type": "code",
   "execution_count": 9,
   "metadata": {},
   "outputs": [],
   "source": [
    "# Average word length\n",
    "# Take the sum of the length of all the words and divide it by the total length of the tweet\n",
    "def avgword(sentence):\n",
    "    words = sentence.split()\n",
    "    if len(words) > 0:\n",
    "        return (sum(len(word) for word in words)/len(words))\n",
    "    else:\n",
    "        return 0.0"
   ]
  },
  {
   "cell_type": "code",
   "execution_count": 10,
   "metadata": {},
   "outputs": [],
   "source": [
    "# Add num of hashtags and caption length\n",
    "import re\n",
    "from sklearn.feature_extraction.text import CountVectorizer, TfidfVectorizer\n",
    "\n",
    "hashtags = []\n",
    "hashtags_num = []\n",
    "wordcount = []\n",
    "charcount = []\n",
    "clean_caption = []\n",
    "avgword_length = []\n",
    "for caption in data['caption']:\n",
    "    # find hashtags\n",
    "    tags = re.findall(r'(?<=[\\s>])#(\\d*[A-Za-z_]+\\d*)\\b(?!;)', caption)\n",
    "    \n",
    "    # delete mentions and hashtags\n",
    "    cc = re.sub(r'(#\\w+)', '', caption)\n",
    "    cc = re.sub(r'@[A-Za-z0-9]+', '', cc)\n",
    "    cc = cc.strip().lower()\n",
    "    clean_caption.append(cc)\n",
    "    \n",
    "    # Number of chars and words\n",
    "    charcount.append(len(cc))\n",
    "    wordcount.append(len(cc.split()))\n",
    "    \n",
    "    # Avg word length\n",
    "    avgword_length.append(avgword(cc))\n",
    "    \n",
    "    # hashtags\n",
    "    hashtags_num.append(len(tags))\n",
    "    hashtags.append(' '.join(tags))\n",
    "\n",
    "data['hashtags'] = hashtags\n",
    "data['hashtags_num'] = hashtags_num\n",
    "data['wordcount'] = wordcount\n",
    "data['charcount'] = charcount\n",
    "data['avgword'] = avgword_length\n",
    "data['clean_caption'] = clean_caption\n",
    "data['clean_caption'] = data['clean_caption'].fillna('')\n",
    "\n",
    "num_feature_cols = ['quality', 'mentions', 'like_ratio', 'comment_ratio', 'hashtags_num', 'wordcount', 'charcount', 'avgword', 'follower', 'following', 'posts']\n",
    "data_final = data[num_feature_cols]"
   ]
  },
  {
   "cell_type": "markdown",
   "metadata": {},
   "source": [
    "# Vectorizing Hashtags and Caption"
   ]
  },
  {
   "cell_type": "code",
   "execution_count": 11,
   "metadata": {},
   "outputs": [],
   "source": [
    "# Vectorizing the caption\n",
    "c_vectorizer = TfidfVectorizer(stop_words='english')\n",
    "h_vectorizer = TfidfVectorizer(stop_words='english')\n",
    "\n",
    "vectorized_caption = c_vectorizer.fit_transform(data['clean_caption'])\n",
    "vectorized_hashtags = h_vectorizer.fit_transform(data['hashtags'])"
   ]
  },
  {
   "cell_type": "code",
   "execution_count": 12,
   "metadata": {},
   "outputs": [],
   "source": [
    "import joblib\n",
    "import pickle\n",
    "\n",
    "# Dump vectorizers\n",
    "pickle.dump(c_vectorizer, open('c_vectorizer.pkl', 'wb'))\n",
    "pickle.dump(h_vectorizer, open('h_vectorizer.pkl', 'wb'))"
   ]
  },
  {
   "cell_type": "code",
   "execution_count": 13,
   "metadata": {},
   "outputs": [],
   "source": [
    "# Load vectorizers\n",
    "with open('c_vectorizer.pkl', 'rb') as f:\n",
    "    c_vectorizer = pickle.load(f)\n",
    "with open('h_vectorizer.pkl', 'rb') as f:\n",
    "    h_vectorizer = pickle.load(f)\n",
    "    \n",
    "vectorized_caption = c_vectorizer.transform(data['clean_caption'])\n",
    "vectorized_hashtags = h_vectorizer.transform(data['hashtags'])"
   ]
  },
  {
   "cell_type": "code",
   "execution_count": null,
   "metadata": {},
   "outputs": [],
   "source": []
  },
  {
   "cell_type": "markdown",
   "metadata": {},
   "source": [
    "# Training"
   ]
  },
  {
   "cell_type": "code",
   "execution_count": 14,
   "metadata": {},
   "outputs": [],
   "source": [
    "# Features without quality column\n",
    "num_features = data[num_feature_cols].iloc[:, 1:].values\n",
    "X = np.hstack((vectorized_caption.todense(), vectorized_hashtags.todense(), num_features))\n",
    "y = data.quality"
   ]
  },
  {
   "cell_type": "code",
   "execution_count": 15,
   "metadata": {},
   "outputs": [],
   "source": [
    "from sklearn.model_selection import train_test_split\n",
    "from sklearn.linear_model import LogisticRegression\n",
    "from sklearn.discriminant_analysis import LinearDiscriminantAnalysis\n",
    "from sklearn.gaussian_process import GaussianProcessClassifier\n",
    "from sklearn.gaussian_process import GaussianProcessRegressor\n",
    "from sklearn.gaussian_process.kernels import RBF\n",
    "from sklearn.tree import DecisionTreeClassifier\n",
    "from sklearn.neighbors import KNeighborsClassifier\n",
    "from sklearn.naive_bayes import GaussianNB\n",
    "from sklearn.discriminant_analysis import QuadraticDiscriminantAnalysis\n",
    "from sklearn.ensemble import RandomForestClassifier, AdaBoostClassifier\n",
    "from sklearn.svm import SVC\n",
    "from sklearn.neural_network import MLPClassifier\n",
    "from sklearn.pipeline import FeatureUnion, Pipeline\n",
    "import sklearn.preprocessing\n",
    "\n",
    "\n",
    "# Splitting\n",
    "X_train, X_test, y_train, y_test = train_test_split(X, y, test_size=0.25, shuffle=True, random_state=42)"
   ]
  },
  {
   "cell_type": "code",
   "execution_count": 18,
   "metadata": {},
   "outputs": [],
   "source": [
    "#model = KNeighborsClassifier()\n",
    "#model = LinearDiscriminantAnalysis()\n",
    "#model = DecisionTreeClassifier()\n",
    "\n",
    "h = .02  # step size in the mesh\n",
    "\n",
    "names = [\"Nearest Neighbors\", \"Gaussian Process\", \"Decision Tree\"]\n",
    "\n",
    "classifiers = [\n",
    "    #GaussianProcessRegressor(1.0 * RBF(1.0)),\n",
    "    KNeighborsClassifier(3),\n",
    "    #LogisticRegression(),\n",
    "    GaussianProcessClassifier(1.0 * RBF(1.0)),\n",
    "    #LinearDiscriminantAnalysis(),\n",
    "    #SVC(kernel=\"linear\", C=0.025),\n",
    "    #SVC(gamma=2, C=1),\n",
    "    DecisionTreeClassifier(max_depth=5),\n",
    "    #RandomForestClassifier(max_depth=5, n_estimators=10, max_features=1),\n",
    "    #MLPClassifier(alpha=1, max_iter=1000),\n",
    "    #AdaBoostClassifier(),\n",
    "    #GaussianNB(),\n",
    "    #QuadraticDiscriminantAnalysis()\n",
    "]"
   ]
  },
  {
   "cell_type": "code",
   "execution_count": 19,
   "metadata": {},
   "outputs": [
    {
     "name": "stdout",
     "output_type": "stream",
     "text": [
      "Nearest Neighbors\n",
      "              precision    recall  f1-score   support\n",
      "\n",
      "           0       0.68      0.60      0.64       524\n",
      "           1       0.62      0.70      0.66       488\n",
      "\n",
      "    accuracy                           0.65      1012\n",
      "   macro avg       0.65      0.65      0.65      1012\n",
      "weighted avg       0.65      0.65      0.65      1012\n",
      "\n",
      "[[315 209]\n",
      " [146 342]]\n",
      "Accuracy: 0.6492094861660079\n",
      "Precision: 0.6206896551724138\n",
      "Recall: 0.7008196721311475\n",
      "Score:  0.6492094861660079\n",
      "\n",
      "0.3029740857411315\n",
      "\n",
      "------------------------------------\n",
      "\n",
      "Gaussian Process\n"
     ]
    },
    {
     "name": "stderr",
     "output_type": "stream",
     "text": [
      "/Users/christoph/.virtualenvs/quality_labeling/lib/python3.8/site-packages/sklearn/gaussian_process/_gpc.py:431: RuntimeWarning: overflow encountered in exp\n",
      "  - np.log1p(np.exp(-(self.y_train_ * 2 - 1) * f)).sum() \\\n"
     ]
    },
    {
     "name": "stdout",
     "output_type": "stream",
     "text": [
      "              precision    recall  f1-score   support\n",
      "\n",
      "           0       0.73      0.58      0.65       524\n",
      "           1       0.63      0.77      0.69       488\n",
      "\n",
      "    accuracy                           0.67      1012\n",
      "   macro avg       0.68      0.68      0.67      1012\n",
      "weighted avg       0.68      0.67      0.67      1012\n",
      "\n",
      "[[305 219]\n",
      " [113 375]]\n",
      "Accuracy: 0.6719367588932806\n",
      "Precision: 0.6313131313131313\n",
      "Recall: 0.7684426229508197\n",
      "Score:  0.6719367588932806\n",
      "\n",
      "0.3557023935638624\n",
      "\n",
      "------------------------------------\n",
      "\n",
      "Decision Tree\n",
      "              precision    recall  f1-score   support\n",
      "\n",
      "           0       0.71      0.48      0.57       524\n",
      "           1       0.59      0.79      0.67       488\n",
      "\n",
      "    accuracy                           0.63      1012\n",
      "   macro avg       0.65      0.63      0.62      1012\n",
      "weighted avg       0.65      0.63      0.62      1012\n",
      "\n",
      "[[253 271]\n",
      " [104 384]]\n",
      "Accuracy: 0.6294466403162056\n",
      "Precision: 0.5862595419847328\n",
      "Recall: 0.7868852459016393\n",
      "Score:  0.6294466403162056\n",
      "\n",
      "0.2820442950017097\n",
      "\n",
      "------------------------------------\n",
      "\n"
     ]
    }
   ],
   "source": [
    "from sklearn import metrics\n",
    "\n",
    "\n",
    "for name, clf in zip(names, classifiers):\n",
    "    print(name)\n",
    "    clf.fit(X_train, y_train)\n",
    "    predictions = clf.predict(X_test)\n",
    "    \n",
    "    score = clf.score(X_test, y_test)\n",
    "    cnf_matrix = metrics.confusion_matrix(y_test, predictions)\n",
    "    \n",
    "    print(metrics.classification_report(y_test,predictions))\n",
    "    print(cnf_matrix)\n",
    "    print(\"Accuracy:\", metrics.accuracy_score(y_test, predictions))\n",
    "    print(\"Precision:\", metrics.precision_score(y_test, predictions))\n",
    "    print(\"Recall:\", metrics.recall_score(y_test, predictions))\n",
    "    print(\"Score: \", score)\n",
    "    print()\n",
    "    print(metrics.matthews_corrcoef(y_test, predictions))\n",
    "    print()\n",
    "    print(\"------------------------------------\")\n",
    "    print()"
   ]
  },
  {
   "cell_type": "code",
   "execution_count": 20,
   "metadata": {},
   "outputs": [
    {
     "data": {
      "text/plain": [
       "['quality_classifier_march.pkl']"
      ]
     },
     "execution_count": 20,
     "metadata": {},
     "output_type": "execute_result"
    }
   ],
   "source": [
    "import joblib\n",
    "\n",
    "clf = GaussianProcessClassifier(1.0 * RBF(1.0))\n",
    "clf.fit(X, y)\n",
    "joblib.dump(clf, 'quality_classifier_march.pkl')"
   ]
  },
  {
   "cell_type": "code",
   "execution_count": null,
   "metadata": {},
   "outputs": [],
   "source": []
  },
  {
   "cell_type": "code",
   "execution_count": null,
   "metadata": {},
   "outputs": [],
   "source": []
  }
 ],
 "metadata": {
  "kernelspec": {
   "display_name": "Python 3",
   "language": "python",
   "name": "python3"
  },
  "language_info": {
   "codemirror_mode": {
    "name": "ipython",
    "version": 3
   },
   "file_extension": ".py",
   "mimetype": "text/x-python",
   "name": "python",
   "nbconvert_exporter": "python",
   "pygments_lexer": "ipython3",
   "version": "3.8.0"
  }
 },
 "nbformat": 4,
 "nbformat_minor": 2
}
